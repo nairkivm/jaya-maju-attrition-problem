{
 "cells": [
  {
   "cell_type": "code",
   "execution_count": 1,
   "id": "a949385f",
   "metadata": {},
   "outputs": [],
   "source": [
    "import pandas as pd"
   ]
  },
  {
   "cell_type": "code",
   "execution_count": 5,
   "id": "dcd6c75e",
   "metadata": {},
   "outputs": [],
   "source": [
    "df = pd.read_csv('./data_sources/employee_data.csv')"
   ]
  },
  {
   "cell_type": "code",
   "execution_count": 13,
   "id": "71ab2389",
   "metadata": {},
   "outputs": [
    {
     "data": {
      "text/plain": [
       "Attrition  Department            \n",
       "0.0        Research & Development    594\n",
       "           Sales                     253\n",
       "1.0        Research & Development    107\n",
       "           Sales                      66\n",
       "0.0        Human Resources            32\n",
       "1.0        Human Resources             6\n",
       "Name: count, dtype: int64"
      ]
     },
     "execution_count": 13,
     "metadata": {},
     "output_type": "execute_result"
    }
   ],
   "source": [
    "df[['Attrition','Department']][df['Attrition'].notna()].value_counts()"
   ]
  },
  {
   "cell_type": "code",
   "execution_count": 9,
   "id": "17029098",
   "metadata": {},
   "outputs": [
    {
     "data": {
      "text/plain": [
       "(1470, 35)"
      ]
     },
     "execution_count": 9,
     "metadata": {},
     "output_type": "execute_result"
    }
   ],
   "source": [
    "df.shape"
   ]
  },
  {
   "cell_type": "code",
   "execution_count": 15,
   "id": "59a32507",
   "metadata": {},
   "outputs": [
    {
     "data": {
      "text/plain": [
       "179"
      ]
     },
     "execution_count": 15,
     "metadata": {},
     "output_type": "execute_result"
    }
   ],
   "source": [
    "107+66+6"
   ]
  },
  {
   "cell_type": "code",
   "execution_count": 16,
   "id": "3c7c2e00",
   "metadata": {},
   "outputs": [
    {
     "data": {
      "text/plain": [
       "0.15263908701854492"
      ]
     },
     "execution_count": 16,
     "metadata": {},
     "output_type": "execute_result"
    }
   ],
   "source": [
    "107/(594+107)"
   ]
  },
  {
   "cell_type": "code",
   "execution_count": 10,
   "id": "6bbf3ddb",
   "metadata": {},
   "outputs": [
    {
     "data": {
      "text/plain": [
       "1291"
      ]
     },
     "execution_count": 10,
     "metadata": {},
     "output_type": "execute_result"
    }
   ],
   "source": [
    "1470 - 179"
   ]
  },
  {
   "cell_type": "code",
   "execution_count": 11,
   "id": "c5908acf",
   "metadata": {},
   "outputs": [
    {
     "data": {
      "text/plain": [
       "0.16918714555765596"
      ]
     },
     "execution_count": 11,
     "metadata": {},
     "output_type": "execute_result"
    }
   ],
   "source": [
    "179/(879 + 179)"
   ]
  },
  {
   "cell_type": "code",
   "execution_count": null,
   "id": "0b676fd9",
   "metadata": {},
   "outputs": [],
   "source": [
    "179/1470"
   ]
  }
 ],
 "metadata": {
  "kernelspec": {
   "display_name": ".venv",
   "language": "python",
   "name": "python3"
  },
  "language_info": {
   "codemirror_mode": {
    "name": "ipython",
    "version": 3
   },
   "file_extension": ".py",
   "mimetype": "text/x-python",
   "name": "python",
   "nbconvert_exporter": "python",
   "pygments_lexer": "ipython3",
   "version": "3.11.9"
  }
 },
 "nbformat": 4,
 "nbformat_minor": 5
}
